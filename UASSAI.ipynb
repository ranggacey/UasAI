{
  "nbformat": 4,
  "nbformat_minor": 0,
  "metadata": {
    "colab": {
      "provenance": [],
      "authorship_tag": "ABX9TyPifWp8GE7OtvsM+uo07sX4",
      "include_colab_link": true
    },
    "kernelspec": {
      "name": "python3",
      "display_name": "Python 3"
    },
    "language_info": {
      "name": "python"
    }
  },
  "cells": [
    {
      "cell_type": "markdown",
      "metadata": {
        "id": "view-in-github",
        "colab_type": "text"
      },
      "source": [
        "<a href=\"https://colab.research.google.com/github/ranggacey/UasAI/blob/main/UASSAI.ipynb\" target=\"_parent\"><img src=\"https://colab.research.google.com/assets/colab-badge.svg\" alt=\"Open In Colab\"/></a>"
      ]
    },
    {
      "cell_type": "code",
      "execution_count": 4,
      "metadata": {
        "colab": {
          "base_uri": "https://localhost:8080/",
          "height": 71
        },
        "id": "Nh5ki8hvvlip",
        "outputId": "04de2298-87f9-4078-efa3-efdf719d6d74"
      },
      "outputs": [
        {
          "output_type": "display_data",
          "data": {
            "text/plain": [
              "<IPython.core.display.HTML object>"
            ],
            "text/html": [
              "\n",
              "     <input type=\"file\" id=\"files-b8c68d23-cfaf-4fa0-b638-4c6af36d399a\" name=\"files[]\" multiple disabled\n",
              "        style=\"border:none\" />\n",
              "     <output id=\"result-b8c68d23-cfaf-4fa0-b638-4c6af36d399a\">\n",
              "      Upload widget is only available when the cell has been executed in the\n",
              "      current browser session. Please rerun this cell to enable.\n",
              "      </output>\n",
              "      <script>// Copyright 2017 Google LLC\n",
              "//\n",
              "// Licensed under the Apache License, Version 2.0 (the \"License\");\n",
              "// you may not use this file except in compliance with the License.\n",
              "// You may obtain a copy of the License at\n",
              "//\n",
              "//      http://www.apache.org/licenses/LICENSE-2.0\n",
              "//\n",
              "// Unless required by applicable law or agreed to in writing, software\n",
              "// distributed under the License is distributed on an \"AS IS\" BASIS,\n",
              "// WITHOUT WARRANTIES OR CONDITIONS OF ANY KIND, either express or implied.\n",
              "// See the License for the specific language governing permissions and\n",
              "// limitations under the License.\n",
              "\n",
              "/**\n",
              " * @fileoverview Helpers for google.colab Python module.\n",
              " */\n",
              "(function(scope) {\n",
              "function span(text, styleAttributes = {}) {\n",
              "  const element = document.createElement('span');\n",
              "  element.textContent = text;\n",
              "  for (const key of Object.keys(styleAttributes)) {\n",
              "    element.style[key] = styleAttributes[key];\n",
              "  }\n",
              "  return element;\n",
              "}\n",
              "\n",
              "// Max number of bytes which will be uploaded at a time.\n",
              "const MAX_PAYLOAD_SIZE = 100 * 1024;\n",
              "\n",
              "function _uploadFiles(inputId, outputId) {\n",
              "  const steps = uploadFilesStep(inputId, outputId);\n",
              "  const outputElement = document.getElementById(outputId);\n",
              "  // Cache steps on the outputElement to make it available for the next call\n",
              "  // to uploadFilesContinue from Python.\n",
              "  outputElement.steps = steps;\n",
              "\n",
              "  return _uploadFilesContinue(outputId);\n",
              "}\n",
              "\n",
              "// This is roughly an async generator (not supported in the browser yet),\n",
              "// where there are multiple asynchronous steps and the Python side is going\n",
              "// to poll for completion of each step.\n",
              "// This uses a Promise to block the python side on completion of each step,\n",
              "// then passes the result of the previous step as the input to the next step.\n",
              "function _uploadFilesContinue(outputId) {\n",
              "  const outputElement = document.getElementById(outputId);\n",
              "  const steps = outputElement.steps;\n",
              "\n",
              "  const next = steps.next(outputElement.lastPromiseValue);\n",
              "  return Promise.resolve(next.value.promise).then((value) => {\n",
              "    // Cache the last promise value to make it available to the next\n",
              "    // step of the generator.\n",
              "    outputElement.lastPromiseValue = value;\n",
              "    return next.value.response;\n",
              "  });\n",
              "}\n",
              "\n",
              "/**\n",
              " * Generator function which is called between each async step of the upload\n",
              " * process.\n",
              " * @param {string} inputId Element ID of the input file picker element.\n",
              " * @param {string} outputId Element ID of the output display.\n",
              " * @return {!Iterable<!Object>} Iterable of next steps.\n",
              " */\n",
              "function* uploadFilesStep(inputId, outputId) {\n",
              "  const inputElement = document.getElementById(inputId);\n",
              "  inputElement.disabled = false;\n",
              "\n",
              "  const outputElement = document.getElementById(outputId);\n",
              "  outputElement.innerHTML = '';\n",
              "\n",
              "  const pickedPromise = new Promise((resolve) => {\n",
              "    inputElement.addEventListener('change', (e) => {\n",
              "      resolve(e.target.files);\n",
              "    });\n",
              "  });\n",
              "\n",
              "  const cancel = document.createElement('button');\n",
              "  inputElement.parentElement.appendChild(cancel);\n",
              "  cancel.textContent = 'Cancel upload';\n",
              "  const cancelPromise = new Promise((resolve) => {\n",
              "    cancel.onclick = () => {\n",
              "      resolve(null);\n",
              "    };\n",
              "  });\n",
              "\n",
              "  // Wait for the user to pick the files.\n",
              "  const files = yield {\n",
              "    promise: Promise.race([pickedPromise, cancelPromise]),\n",
              "    response: {\n",
              "      action: 'starting',\n",
              "    }\n",
              "  };\n",
              "\n",
              "  cancel.remove();\n",
              "\n",
              "  // Disable the input element since further picks are not allowed.\n",
              "  inputElement.disabled = true;\n",
              "\n",
              "  if (!files) {\n",
              "    return {\n",
              "      response: {\n",
              "        action: 'complete',\n",
              "      }\n",
              "    };\n",
              "  }\n",
              "\n",
              "  for (const file of files) {\n",
              "    const li = document.createElement('li');\n",
              "    li.append(span(file.name, {fontWeight: 'bold'}));\n",
              "    li.append(span(\n",
              "        `(${file.type || 'n/a'}) - ${file.size} bytes, ` +\n",
              "        `last modified: ${\n",
              "            file.lastModifiedDate ? file.lastModifiedDate.toLocaleDateString() :\n",
              "                                    'n/a'} - `));\n",
              "    const percent = span('0% done');\n",
              "    li.appendChild(percent);\n",
              "\n",
              "    outputElement.appendChild(li);\n",
              "\n",
              "    const fileDataPromise = new Promise((resolve) => {\n",
              "      const reader = new FileReader();\n",
              "      reader.onload = (e) => {\n",
              "        resolve(e.target.result);\n",
              "      };\n",
              "      reader.readAsArrayBuffer(file);\n",
              "    });\n",
              "    // Wait for the data to be ready.\n",
              "    let fileData = yield {\n",
              "      promise: fileDataPromise,\n",
              "      response: {\n",
              "        action: 'continue',\n",
              "      }\n",
              "    };\n",
              "\n",
              "    // Use a chunked sending to avoid message size limits. See b/62115660.\n",
              "    let position = 0;\n",
              "    do {\n",
              "      const length = Math.min(fileData.byteLength - position, MAX_PAYLOAD_SIZE);\n",
              "      const chunk = new Uint8Array(fileData, position, length);\n",
              "      position += length;\n",
              "\n",
              "      const base64 = btoa(String.fromCharCode.apply(null, chunk));\n",
              "      yield {\n",
              "        response: {\n",
              "          action: 'append',\n",
              "          file: file.name,\n",
              "          data: base64,\n",
              "        },\n",
              "      };\n",
              "\n",
              "      let percentDone = fileData.byteLength === 0 ?\n",
              "          100 :\n",
              "          Math.round((position / fileData.byteLength) * 100);\n",
              "      percent.textContent = `${percentDone}% done`;\n",
              "\n",
              "    } while (position < fileData.byteLength);\n",
              "  }\n",
              "\n",
              "  // All done.\n",
              "  yield {\n",
              "    response: {\n",
              "      action: 'complete',\n",
              "    }\n",
              "  };\n",
              "}\n",
              "\n",
              "scope.google = scope.google || {};\n",
              "scope.google.colab = scope.google.colab || {};\n",
              "scope.google.colab._files = {\n",
              "  _uploadFiles,\n",
              "  _uploadFilesContinue,\n",
              "};\n",
              "})(self);\n",
              "</script> "
            ]
          },
          "metadata": {}
        },
        {
          "output_type": "stream",
          "name": "stdout",
          "text": [
            "Saving Eccom.csv to Eccom.csv\n"
          ]
        }
      ],
      "source": [
        "from google.colab import files\n",
        "uploaded = files.upload()\n"
      ]
    },
    {
      "cell_type": "code",
      "source": [
        "print(data.head())\n",
        "\n",
        "# Menampilkan informasi mengenai dataset\n",
        "print(data.info())\n",
        "\n"
      ],
      "metadata": {
        "colab": {
          "base_uri": "https://localhost:8080/"
        },
        "id": "lE3Z0tPw8F4i",
        "outputId": "e3bc2792-85cd-4966-c3bc-878a3c878fbe"
      },
      "execution_count": 20,
      "outputs": [
        {
          "output_type": "stream",
          "name": "stdout",
          "text": [
            "   Gender  Expense  Checkout  Apk_Blibli  Apk_Bukalapak  Apk_Lazada  \\\n",
            "0       0   600000         3           0              0           0   \n",
            "1       0   100000         1           0              0           0   \n",
            "2       0   250000         2           0              0           0   \n",
            "3       1   200000         4           0              0           0   \n",
            "4       1   250000         2           0              0           1   \n",
            "\n",
            "   Apk_Shopee  Apk_Tokopedia  Katagori_Aksesoris  Katagori_Elektronik  \\\n",
            "0           1              0                   0                    0   \n",
            "1           1              0                   0                    1   \n",
            "2           0              1                   0                    1   \n",
            "3           1              0                   1                    0   \n",
            "4           0              0                   1                    0   \n",
            "\n",
            "   Katagori_Fashion  Katagori_Makanan  \n",
            "0                 1                 0  \n",
            "1                 0                 0  \n",
            "2                 0                 0  \n",
            "3                 0                 0  \n",
            "4                 0                 0  \n",
            "<class 'pandas.core.frame.DataFrame'>\n",
            "RangeIndex: 20 entries, 0 to 19\n",
            "Data columns (total 12 columns):\n",
            " #   Column               Non-Null Count  Dtype\n",
            "---  ------               --------------  -----\n",
            " 0   Gender               20 non-null     int64\n",
            " 1   Expense              20 non-null     int64\n",
            " 2   Checkout             20 non-null     int64\n",
            " 3   Apk_Blibli           20 non-null     uint8\n",
            " 4   Apk_Bukalapak        20 non-null     uint8\n",
            " 5   Apk_Lazada           20 non-null     uint8\n",
            " 6   Apk_Shopee           20 non-null     uint8\n",
            " 7   Apk_Tokopedia        20 non-null     uint8\n",
            " 8   Katagori_Aksesoris   20 non-null     uint8\n",
            " 9   Katagori_Elektronik  20 non-null     uint8\n",
            " 10  Katagori_Fashion     20 non-null     uint8\n",
            " 11  Katagori_Makanan     20 non-null     uint8\n",
            "dtypes: int64(3), uint8(9)\n",
            "memory usage: 788.0 bytes\n",
            "None\n"
          ]
        }
      ]
    },
    {
      "cell_type": "code",
      "source": [
        "import pandas as pd\n",
        "from sklearn.model_selection import train_test_split\n",
        "from sklearn.ensemble import GradientBoostingClassifier\n",
        "from sklearn.preprocessing import LabelEncoder\n",
        "from sklearn.metrics import accuracy_score, classification_report\n",
        "\n",
        "\n",
        "data = pd.read_csv('Eccom.csv')\n",
        "\n",
        "\n",
        "encoder = LabelEncoder()\n",
        "data['Gender'] = encoder.fit_transform(data['Gender'])\n",
        "\n",
        "# Mengubah kolom 'Apk' menjadi fitur dengan one-hot encoding\n",
        "data = pd.get_dummies(data, columns=['Apk', 'Katagori'])\n",
        "\n",
        "# Memisahkan fitur (features) dan label (target)\n",
        "X = data.drop(['Gender'], axis=1)\n",
        "y = data['Gender']\n",
        "\n",
        "# Memisahkan data menjadi data latih dan data uji\n",
        "X_train, X_test, y_train, y_test = train_test_split(X, y, test_size=0.2, random_state=42)\n",
        "\n",
        "# Membangun model Gradient Boosting Classifier\n",
        "model = GradientBoostingClassifier(random_state=42)\n",
        "model.fit(X_train, y_train)\n",
        "\n",
        "# Memprediksi jenis kelamin menggunakan data uji\n",
        "y_pred = model.predict(X_test)\n",
        "\n",
        "# Evaluasi model\n",
        "accuracy = accuracy_score(y_test, y_pred)\n",
        "report = classification_report(y_test, y_pred)\n",
        "\n",
        "# Menampilkan hasil evaluasi\n",
        "print(\"Accuracy:\", accuracy)\n",
        "print(\"Classification Report:\\n\", report)\n"
      ],
      "metadata": {
        "colab": {
          "base_uri": "https://localhost:8080/"
        },
        "id": "3coJxuL_3ykL",
        "outputId": "4ecc1d3b-5960-4ccb-a79c-f68cbe589f84"
      },
      "execution_count": 16,
      "outputs": [
        {
          "output_type": "stream",
          "name": "stdout",
          "text": [
            "Accuracy: 0.5\n",
            "Classification Report:\n",
            "               precision    recall  f1-score   support\n",
            "\n",
            "           0       0.50      0.50      0.50         2\n",
            "           1       0.50      0.50      0.50         2\n",
            "\n",
            "    accuracy                           0.50         4\n",
            "   macro avg       0.50      0.50      0.50         4\n",
            "weighted avg       0.50      0.50      0.50         4\n",
            "\n"
          ]
        }
      ]
    },
    {
      "cell_type": "code",
      "source": [
        "\n",
        "import pandas as pd\n",
        "from sklearn.preprocessing import StandardScaler\n",
        "from sklearn.decomposition import PCA\n",
        "import matplotlib.pyplot as plt\n",
        "\n",
        "\n",
        "data = pd.read_csv('Eccom.csv')\n",
        "\n",
        "# Memeriksa beberapa baris pertama dataset untuk melihat struktur data\n",
        "print(data.head())\n",
        "\n",
        "# Memisahkan fitur numerik dari fitur kategorikal (jika ada)\n",
        "numerical_features = ['Expense', 'Checkout']\n",
        "categorical_features = ['Gender', 'Apk', 'Katagori']\n",
        "\n",
        "# Mengambil fitur numerik\n",
        "X = data[numerical_features]\n",
        "\n",
        "# Standardisasi data\n",
        "scaler = StandardScaler()\n",
        "X_scaled = scaler.fit_transform(X)\n",
        "\n",
        "# Menerapkan PCA dengan 2 komponen utama\n",
        "pca = PCA(n_components=2)\n",
        "principal_components = pca.fit_transform(X_scaled)\n",
        "\n",
        "# Membuat DataFrame baru yang berisi hasil PCA\n",
        "pca_df = pd.DataFrame(data=principal_components, columns=['PC1', 'PC2'])\n",
        "\n",
        "# Menggabungkan hasil PCA dengan fitur kategorikal jika diperlukan\n",
        "final_df = pd.concat([pca_df, data[categorical_features]], axis=1)\n",
        "\n",
        "# Menampilkan hasil PCA dalam scatter plot\n",
        "plt.figure(figsize=(8, 6))\n",
        "for category in final_df['Gender'].unique():\n",
        "    plt.scatter(final_df.loc[final_df['Gender'] == category, 'PC1'],\n",
        "                final_df.loc[final_df['Gender'] == category, 'PC2'],\n",
        "                label=category)\n",
        "plt.xlabel('Principal Component 1')\n",
        "plt.ylabel('Principal Component 2')\n",
        "plt.title('PCA Plot')\n",
        "plt.legend()\n",
        "plt.show()\n",
        "\n",
        "# Melihat varians yang dijelaskan oleh setiap komponen utama\n",
        "print(\"Variance Explained by Each Component:\", pca.explained_variance_ratio_)\n"
      ],
      "metadata": {
        "colab": {
          "base_uri": "https://localhost:8080/",
          "height": 685
        },
        "id": "xKFHYAdS4YBc",
        "outputId": "fa158f57-25b7-426b-e147-ea3afbd13eed"
      },
      "execution_count": 14,
      "outputs": [
        {
          "output_type": "stream",
          "name": "stdout",
          "text": [
            "      Gender        Apk  Expense  Checkout    Katagori\n",
            "0  Laki-laki     Shopee   600000         3     Fashion\n",
            "1  Laki-laki     Shopee   100000         1  Elektronik\n",
            "2  Laki-laki  Tokopedia   250000         2  Elektronik\n",
            "3  Perempuan     Shopee   200000         4   Aksesoris\n",
            "4  Perempuan     Lazada   250000         2   Aksesoris\n"
          ]
        },
        {
          "output_type": "display_data",
          "data": {
            "text/plain": [
              "<Figure size 800x600 with 1 Axes>"
            ],
            "image/png": "[encoded data removed]"
          },
          "metadata": {}
        },
        {
          "output_type": "stream",
          "name": "stdout",
          "text": [
            "Variance Explained by Each Component: [0.5926132 0.4073868]\n"
          ]
        }
      ]
    },
    {
      "cell_type": "code",
      "source": [
        "# Import library yang diperlukan\n",
        "from sklearn.model_selection import train_test_split\n",
        "from sklearn.naive_bayes import MultinomialNB\n",
        "from sklearn.metrics import accuracy_score, classification_report\n",
        "from sklearn.preprocessing import LabelEncoder\n",
        "\n",
        "# Mengimpor dataset\n",
        "# Pastikan dataset sudah diunggah ke Google Colab atau bisa menggunakan metode lain untuk mengimpor dataset (seperti dari Google Drive)\n",
        "# Di sini, diasumsikan dataset tersimpan dalam file CSV dengan nama \"Eccom.csv\"\n",
        "data = pd.read_csv('Eccom.csv')\n",
        "\n",
        "# Label Encoding untuk fitur kategorikal (Gender, Apk, Katagori)\n",
        "label_encoder = LabelEncoder()\n",
        "data['Gender'] = label_encoder.fit_transform(data['Gender'])\n",
        "data['Apk'] = label_encoder.fit_transform(data['Apk'])\n",
        "data['Katagori'] = label_encoder.fit_transform(data['Katagori'])\n",
        "\n",
        "# Memisahkan fitur dan target\n",
        "X = data.drop('Katagori', axis=1)  # Fitur-fitur lainnya sebagai X\n",
        "y = data['Katagori']  # Kolom 'Katagori' sebagai target yang ingin diprediksi\n",
        "\n",
        "# Membagi data menjadi data latih dan data uji\n",
        "X_train, X_test, y_train, y_test = train_test_split(X, y, test_size=0.2, random_state=42)\n",
        "\n",
        "# Inisialisasi dan melatih model Naive Bayes\n",
        "nb_classifier = MultinomialNB()\n",
        "nb_classifier.fit(X_train, y_train)\n",
        "\n",
        "# Melakukan prediksi menggunakan data uji\n",
        "y_pred = nb_classifier.predict(X_test)\n",
        "\n",
        "# Mengukur akurasi model\n",
        "accuracy = accuracy_score(y_test, y_pred)\n",
        "print(f\"Akurasi model Naive Bayes: {accuracy:.2f}\")\n",
        "\n",
        "# Melihat laporan klasifikasi\n",
        "print(classification_report(y_test, y_pred))\n"
      ],
      "metadata": {
        "colab": {
          "base_uri": "https://localhost:8080/"
        },
        "id": "xTLjh8EO6ui3",
        "outputId": "44ddff74-6c88-4c48-e441-ca2e2bc4bf11"
      },
      "execution_count": 15,
      "outputs": [
        {
          "output_type": "stream",
          "name": "stdout",
          "text": [
            "Akurasi model Naive Bayes: 0.50\n",
            "              precision    recall  f1-score   support\n",
            "\n",
            "           0       0.50      1.00      0.67         1\n",
            "           1       0.50      0.50      0.50         2\n",
            "           2       0.00      0.00      0.00         1\n",
            "\n",
            "    accuracy                           0.50         4\n",
            "   macro avg       0.33      0.50      0.39         4\n",
            "weighted avg       0.38      0.50      0.42         4\n",
            "\n"
          ]
        },
        {
          "output_type": "stream",
          "name": "stderr",
          "text": [
            "/usr/local/lib/python3.10/dist-packages/sklearn/metrics/_classification.py:1344: UndefinedMetricWarning: Precision and F-score are ill-defined and being set to 0.0 in labels with no predicted samples. Use `zero_division` parameter to control this behavior.\n",
            "  _warn_prf(average, modifier, msg_start, len(result))\n",
            "/usr/local/lib/python3.10/dist-packages/sklearn/metrics/_classification.py:1344: UndefinedMetricWarning: Precision and F-score are ill-defined and being set to 0.0 in labels with no predicted samples. Use `zero_division` parameter to control this behavior.\n",
            "  _warn_prf(average, modifier, msg_start, len(result))\n",
            "/usr/local/lib/python3.10/dist-packages/sklearn/metrics/_classification.py:1344: UndefinedMetricWarning: Precision and F-score are ill-defined and being set to 0.0 in labels with no predicted samples. Use `zero_division` parameter to control this behavior.\n",
            "  _warn_prf(average, modifier, msg_start, len(result))\n"
          ]
        }
      ]
    },
    {
      "cell_type": "code",
      "source": [
        "from sklearn.tree import DecisionTreeClassifier\n",
        "\n",
        "# Inisialisasi model Decision Tree\n",
        "dt_classifier = DecisionTreeClassifier()\n",
        "\n",
        "# Latih model\n",
        "dt_classifier.fit(X_train, y_train)\n",
        "\n",
        "# Lakukan prediksi\n",
        "y_pred_dt = dt_classifier.predict(X_test)\n",
        "\n",
        "# Evaluasi model\n",
        "accuracy_dt = accuracy_score(y_test, y_pred_dt)\n",
        "print(f\"Akurasi model Decision Tree: {accuracy_dt:.2f}\")\n"
      ],
      "metadata": {
        "colab": {
          "base_uri": "https://localhost:8080/"
        },
        "id": "-taxKfBB7PM1",
        "outputId": "04c2dab3-ab3e-4866-d343-4e5f5b61c037"
      },
      "execution_count": 17,
      "outputs": [
        {
          "output_type": "stream",
          "name": "stdout",
          "text": [
            "Akurasi model Decision Tree: 0.25\n"
          ]
        }
      ]
    },
    {
      "cell_type": "code",
      "source": [
        "from sklearn.ensemble import RandomForestClassifier\n",
        "\n",
        "# Inisialisasi model Random Forest\n",
        "rf_classifier = RandomForestClassifier()\n",
        "\n",
        "# Latih model\n",
        "rf_classifier.fit(X_train, y_train)\n",
        "\n",
        "# Lakukan prediksi\n",
        "y_pred_rf = rf_classifier.predict(X_test)\n",
        "\n",
        "# Evaluasi model\n",
        "accuracy_rf = accuracy_score(y_test, y_pred_rf)\n",
        "print(f\"Akurasi model Random Forest: {accuracy_rf:.2f}\")\n"
      ],
      "metadata": {
        "colab": {
          "base_uri": "https://localhost:8080/"
        },
        "id": "wRHIlaYd7Pbb",
        "outputId": "d1e5cf29-adc0-4d16-b77e-e825811c7cac"
      },
      "execution_count": 18,
      "outputs": [
        {
          "output_type": "stream",
          "name": "stdout",
          "text": [
            "Akurasi model Random Forest: 0.50\n"
          ]
        }
      ]
    },
    {
      "cell_type": "code",
      "source": [],
      "metadata": {
        "id": "x91mJ7NB7YVa"
      },
      "execution_count": null,
      "outputs": []
    }
  ]
}